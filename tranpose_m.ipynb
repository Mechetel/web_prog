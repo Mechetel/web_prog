{
  "nbformat": 4,
  "nbformat_minor": 0,
  "metadata": {
    "colab": {
      "name": "Untitled0.ipynb",
      "provenance": [],
      "collapsed_sections": [],
      "authorship_tag": "ABX9TyOwhVkK6C1axDX4VMH2H6a8",
      "include_colab_link": true
    },
    "kernelspec": {
      "name": "python3",
      "display_name": "Python 3"
    },
    "language_info": {
      "name": "python"
    }
  },
  "cells": [
    {
      "cell_type": "markdown",
      "metadata": {
        "id": "view-in-github",
        "colab_type": "text"
      },
      "source": [
        "<a href=\"https://colab.research.google.com/github/Mechetel/web_prog/blob/master/tranpose_m.ipynb\" target=\"_parent\"><img src=\"https://colab.research.google.com/assets/colab-badge.svg\" alt=\"Open In Colab\"/></a>"
      ]
    },
    {
      "cell_type": "code",
      "metadata": {
        "id": "LWAY79ikWJKg"
      },
      "source": [
        "def print_matrix(M):\n",
        "  for r in M:\n",
        "    print(r)"
      ],
      "execution_count": 56,
      "outputs": []
    },
    {
      "cell_type": "code",
      "metadata": {
        "colab": {
          "base_uri": "https://localhost:8080/"
        },
        "id": "gSsLLbA9VjdW",
        "outputId": "c97e54e4-5a3d-41d9-edbd-27c58023b3cf"
      },
      "source": [
        "# Program to transpose a matrix using a nested loop\n",
        "\n",
        "Z = [[0, 1, 2, 3, 4, 5],\n",
        "     [6, 0, 1, 2, 3, 4],\n",
        "     [7, 5, 0, 1, 2, 3],\n",
        "     [8, 6, 7, 0, 1, 2],\n",
        "     [9, 7, 8, 9, 0, 1],\n",
        "     [0, 8, 7, 9, 6, 0]]\n",
        "print_matrix(Z)\n",
        "print(\"\\n\")\n",
        "\n",
        "result = [[Z[j][i] for j in range(len(Z))] for i in range(len(Z[0]))]\n",
        "\n",
        "print_matrix(result)\n",
        "print(\"\\n\")"
      ],
      "execution_count": 62,
      "outputs": [
        {
          "output_type": "stream",
          "name": "stdout",
          "text": [
            "[0, 1, 2, 3, 4, 5]\n",
            "[6, 0, 1, 2, 3, 4]\n",
            "[7, 5, 0, 1, 2, 3]\n",
            "[8, 6, 7, 0, 1, 2]\n",
            "[9, 7, 8, 9, 0, 1]\n",
            "[0, 8, 7, 9, 6, 0]\n",
            "\n",
            "\n",
            "[0, 6, 7, 8, 9, 0]\n",
            "[1, 0, 5, 6, 7, 8]\n",
            "[2, 1, 0, 7, 8, 7]\n",
            "[3, 2, 1, 0, 9, 9]\n",
            "[4, 3, 2, 1, 0, 6]\n",
            "[5, 4, 3, 2, 1, 0]\n",
            "\n",
            "\n"
          ]
        }
      ]
    }
  ]
}